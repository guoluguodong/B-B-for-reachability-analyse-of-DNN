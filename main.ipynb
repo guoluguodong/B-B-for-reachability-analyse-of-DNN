{
 "cells": [
  {
   "metadata": {
    "ExecuteTime": {
     "end_time": "2025-04-23T15:50:51.453091Z",
     "start_time": "2025-04-23T15:50:49.781850Z"
    }
   },
   "cell_type": "code",
   "source": [
    "import cma\n",
    "import numpy as np\n",
    "\n",
    "def run_cma_es(\n",
    "    objective_function,\n",
    "    bounds,         # List of (lower, upper) tuples, one per dimension\n",
    "    x0=None,        # Optional initial solution\n",
    "    sigma0=0.5,     # Initial step size\n",
    "    popsize=40,     # Population size\n",
    "    maxiter=200     # Max number of iterations\n",
    "):\n",
    "    dim = len(bounds)\n",
    "    \n",
    "    # 转换 bounds 为 cma 格式的 [lower_bounds, upper_bounds]\n",
    "    lower_bounds, upper_bounds = zip(*bounds)\n",
    "    \n",
    "    # 初始解默认在中点\n",
    "    if x0 is None:\n",
    "        x0 = np.array([(l + u) / 2 for l, u in bounds])\n",
    "    \n",
    "    # 创建策略实例\n",
    "    es = cma.CMAEvolutionStrategy(\n",
    "        x0, sigma0,\n",
    "        {\n",
    "            'bounds': [lower_bounds, upper_bounds],\n",
    "            'popsize': popsize,\n",
    "            'maxiter': maxiter,\n",
    "            'verb_disp': 1\n",
    "        }\n",
    "    )\n",
    "\n",
    "    # 优化过程\n",
    "    es.optimize(objective_function)\n",
    "\n",
    "    # 返回结果\n",
    "    return {\n",
    "        'best_x': es.result.xbest,\n",
    "        'best_f': es.result.fbest,\n",
    "        'evolution_path': es.logger\n",
    "    }\n"
   ],
   "id": "cb30962ad08d27bb",
   "outputs": [],
   "execution_count": 1
  },
  {
   "metadata": {},
   "cell_type": "code",
   "outputs": [],
   "execution_count": null,
   "source": [
    "# 示例目标函数（你可以换成自己的）\n",
    "def rastrigin(x):\n",
    "    return 10 * len(x) + sum([(xi ** 2 - 10 * np.cos(2 * np.pi * xi)) for xi in x])\n",
    "\n",
    "# 每维的边界：196维，每个 [-5, 5]\n",
    "bounds = [(-5.0, 5.0)] * 196\n",
    "\n",
    "# 运行优化\n",
    "result = run_cma_es(\n",
    "    objective_function=rastrigin,\n",
    "    bounds=bounds,\n",
    "    sigma0=0.5,\n",
    "    popsize=50,\n",
    "    maxiter=300\n",
    ")\n",
    "\n",
    "print(\"最优解:\", result['best_x'])\n",
    "print(\"最优目标值:\", result['best_f'])\n"
   ],
   "id": "bb96f2e43183a85b"
  }
 ],
 "metadata": {
  "kernelspec": {
   "display_name": "Python 3",
   "language": "python",
   "name": "python3"
  },
  "language_info": {
   "codemirror_mode": {
    "name": "ipython",
    "version": 2
   },
   "file_extension": ".py",
   "mimetype": "text/x-python",
   "name": "python",
   "nbconvert_exporter": "python",
   "pygments_lexer": "ipython2",
   "version": "2.7.6"
  }
 },
 "nbformat": 4,
 "nbformat_minor": 5
}
